{
 "cells": [
  {
   "cell_type": "code",
   "execution_count": null,
   "id": "5c97f098",
   "metadata": {},
   "outputs": [],
   "source": [
    "from pyspark.sql.functions import *\n",
    "phone_accel_df = spark.read.format(\"csv\").option(\"header\", \"true\").load(\"dbfs:/home/tempo/Phones_accelerometer\").withColumn(\"event_ts\", (col(\"Arrival_Time\").cast(\"double\")/1000).cast(\"timestamp\")).withColumn(\"x\", col(\"x\").cast(\"double\")).withColumn(\"y\", col(\"y\").cast(\"double\")).withColumn(\"z\", col(\"z\").cast(\"double\")).withColumn(\"event_ts_dbl\", col(\"event_ts\").cast(\"double\"))\n",
    "from tempo import *\n",
    "phone_accel_tsdf = TSDF(phone_accel_df, ts_col=\"event_ts\", partition_cols = [\"User\"])\n",
    "display(phone_accel_tsdf)"
   ]
  },
  {
   "cell_type": "code",
   "execution_count": null,
   "id": "c901e9fd",
   "metadata": {},
   "outputs": [],
   "source": [
    "# ts_col = timestamp column on which to sort fact and source table\n",
    "# partition_cols - columns to use for partitioning the TSDF into more granular time series for windowing and sorting\n",
    "\n",
    "resampled_sdf = phone_accel_tsdf.resample(freq='min', func='floor')\n",
    "resampled_pdf = resampled_sdf.df.filter(col('event_ts').cast(\"date\") == \"2015-02-23\").toPandas()\n",
    "\n",
    "import plotly.graph_objs as go\n",
    "import plotly.express as px\n",
    "import pandas as pd\n",
    "\n",
    "# Plotly figure 1\n",
    "fig = px.line(resampled_pdf, x='event_ts', y='z',\n",
    "color=\"User\",\n",
    "line_group=\"User\", hover_name=\"User\")\n",
    "fig.update_layout(title='Phone Accelerometer Usage' , showlegend=False)\n",
    "\n",
    "fig.show()"
   ]
  },
  {
   "cell_type": "code",
   "execution_count": null,
   "id": "bbdd9a44",
   "metadata": {},
   "outputs": [],
   "source": [
    "from pyspark.sql.functions import *\n",
    "\n",
    "watch_accel_df = spark.read.format(\"csv\").option(\"header\", \"true\").load(\"dbfs:/home/tempo/Watch_accelerometer\").withColumn(\"event_ts\", (col(\"Arrival_Time\").cast(\"double\")/1000).cast(\"timestamp\")).withColumn(\"x\", col(\"x\").cast(\"double\")).withColumn(\"y\", col(\"y\").cast(\"double\")).withColumn(\"z\", col(\"z\").cast(\"double\")).withColumn(\"event_ts_dbl\", col(\"event_ts\").cast(\"double\"))\n",
    "\n",
    "watch_accel_tsdf = TSDF(watch_accel_df, ts_col=\"event_ts\", partition_cols = [\"User\"])\n",
    "\n",
    "# Applying AS OF join to TSDF datasets\n",
    "joined_df = watch_accel_tsdf.asofJoin(phone_accel_tsdf, right_prefix=\"phone_accel\")\n",
    "\n",
    "display(joined_df)\n",
    "# We can use show() also\n",
    "# joined_df.show(10, False)"
   ]
  },
  {
   "cell_type": "code",
   "execution_count": null,
   "id": "5d9ce263",
   "metadata": {},
   "outputs": [],
   "source": [
    "joined_df = watch_accel_tsdf.asofJoin(phone_accel_tsdf, right_prefix=\"watch_accel\", tsPartitionVal = 10, fraction = 0.1)\n",
    "display(joined_df)\n",
    "# We can use show() also\n",
    "# joined_df.show(10, False)"
   ]
  },
  {
   "cell_type": "code",
   "execution_count": null,
   "id": "c69e6143",
   "metadata": {},
   "outputs": [],
   "source": [
    "ema_trades = watch_accel_tsdf.EMA(\"x\", window = 50)\n",
    "display(ema_trades)\n",
    "# We can use show() also\n",
    "# ema_trades.show(10, False)"
   ]
  },
  {
   "cell_type": "code",
   "execution_count": null,
   "id": "9dd4e7b6",
   "metadata": {},
   "outputs": [],
   "source": [
    "moving_avg = watch_accel_tsdf.withRangeStats(\"y\", rangeBackWindowSecs=600)\n",
    "moving_avg.select('event_ts', 'x', 'y', 'z', 'mean_y').show(10, False)"
   ]
  },
  {
   "cell_type": "code",
   "execution_count": null,
   "id": "fc1718b3",
   "metadata": {},
   "outputs": [],
   "source": [
    "ft_df = tsdf.fourier_transform(timestep=1, valueCol=\"data_col\")\n",
    "display(ft_df)"
   ]
  },
  {
   "cell_type": "code",
   "execution_count": null,
   "id": "db3b92cf",
   "metadata": {},
   "outputs": [],
   "source": [
    "# Create instance of the TSDF class\n",
    "input_tsdf = TSDF(\n",
    "            input_df,\n",
    "            partition_cols=[\"partition_a\", \"partition_b\"],\n",
    "            ts_col=\"event_ts\",\n",
    "        )\n",
    "\n",
    "\n",
    "# What the following chain of operation does is:\n",
    "# 1. Aggregate all valid numeric columns using mean into 30 second intervals\n",
    "# 2. Interpolate any missing intervals or null values using linear fill\n",
    "# Note: When chaining interpolate after a resample, there is no need to provide a freq or func parameter. Only method is required.\n",
    "interpolated_tsdf = input_tsdf.resample(freq=\"30 seconds\", func=\"mean\").interpolate(\n",
    "    method=\"linear\"\n",
    ")\n",
    "\n",
    "# What the following interpolation method does is:\n",
    "# 1. Aggregate columnA and columnBN  using mean into 30 second intervals\n",
    "# 2. Interpolate any missing intervals or null values using linear fill\n",
    "interpolated_tsdf = input_tsdf.interpolate(\n",
    "    freq=\"30 seconds\",\n",
    "    func=\"mean\",\n",
    "    target_cols= [\"columnA\",\"columnB\"],\n",
    "    method=\"linear\"\n",
    "\n",
    ")\n",
    "\n",
    "# Alternatively it's also possible to override default TSDF parameters.\n",
    "# e.g. partition_cols, ts_col a\n",
    "interpolated_tsdf = input_tsdf.interpolate(\n",
    "    partition_cols=[\"partition_c\"],\n",
    "    ts_col=\"other_event_ts\"\n",
    "    freq=\"30 seconds\",\n",
    "    func=\"mean\",\n",
    "    target_cols= [\"columnA\",\"columnB\"],\n",
    "    method=\"linear\"\n",
    ")\n",
    "\n",
    "# The show_interpolated flag can be set to `True` to show additional boolean columns\n",
    "# for a given row that shows if a column has been interpolated.\n",
    "interpolated_tsdf = input_tsdf.interpolate(\n",
    "    partition_cols=[\"partition_c\"],\n",
    "    ts_col=\"other_event_ts\"\n",
    "    freq=\"30 seconds\",\n",
    "    func=\"mean\",\n",
    "    method=\"linear\",\n",
    "    target_cols= [\"columnA\",\"columnB\"],\n",
    "    show_interpolated=True,\n",
    ")"
   ]
  },
  {
   "cell_type": "code",
   "execution_count": null,
   "id": "15b2b45d",
   "metadata": {},
   "outputs": [],
   "source": [
    "grouped_stats = watch_accel_tsdf.withGroupedStats(metricCols = [\"y\"], freq=\"1 minute\")\n",
    "display(grouped_stats)"
   ]
  }
 ],
 "metadata": {},
 "nbformat": 4,
 "nbformat_minor": 5
}
